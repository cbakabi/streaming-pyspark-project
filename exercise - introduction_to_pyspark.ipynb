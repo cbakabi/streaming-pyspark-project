{
 "cells": [
  {
   "cell_type": "code",
   "execution_count": 2,
   "metadata": {},
   "outputs": [],
   "source": [
    "from pyspark.sql import SparkSession\n",
    "import findspark\n",
    "findspark.init()\n",
    "import pyspark\n"
   ]
  },
  {
   "cell_type": "code",
   "execution_count": 3,
   "metadata": {},
   "outputs": [
    {
     "name": "stderr",
     "output_type": "stream",
     "text": [
      "Setting default log level to \"WARN\".\n",
      "To adjust logging level use sc.setLogLevel(newLevel). For SparkR, use setLogLevel(newLevel).\n",
      "24/11/15 13:41:58 WARN NativeCodeLoader: Unable to load native-hadoop library for your platform... using builtin-java classes where applicable\n",
      "24/11/15 13:41:59 WARN Utils: Service 'SparkUI' could not bind on port 4040. Attempting port 4041.\n"
     ]
    }
   ],
   "source": [
    "spark = SparkSession.builder.appName(\"IntroToPySpark\").getOrCreate()"
   ]
  },
  {
   "cell_type": "code",
   "execution_count": 4,
   "metadata": {},
   "outputs": [
    {
     "name": "stderr",
     "output_type": "stream",
     "text": [
      "[Stage 2:>                                                          (0 + 8) / 8]\r"
     ]
    },
    {
     "name": "stdout",
     "output_type": "stream",
     "text": [
      "+---------+--------+\n",
      "|startYear|count(1)|\n",
      "+---------+--------+\n",
      "|     1903|    1635|\n",
      "|     1953|    5118|\n",
      "|     1897|     796|\n",
      "|     1957|    6533|\n",
      "|     1987|   11850|\n",
      "|     1956|    6142|\n",
      "|     1936|    2508|\n",
      "|     2016|    4323|\n",
      "|     2020|     687|\n",
      "|     2012|    2578|\n",
      "|     1958|    6593|\n",
      "|     1910|    1796|\n",
      "|     1943|    1775|\n",
      "|     1915|    5440|\n",
      "|     1972|    8739|\n",
      "|     1931|    2270|\n",
      "|     1911|    2711|\n",
      "|     1926|    2591|\n",
      "|     1938|    2424|\n",
      "|     1988|   11312|\n",
      "+---------+--------+\n",
      "only showing top 20 rows\n",
      "\n"
     ]
    },
    {
     "name": "stderr",
     "output_type": "stream",
     "text": [
      "                                                                                \r"
     ]
    },
    {
     "name": "stderr",
     "output_type": "stream",
     "text": [
      "24/11/15 13:42:14 WARN GarbageCollectionMetrics: To enable non-built-in garbage collector(s) List(G1 Concurrent GC), users should configure it(them) to spark.eventLog.gcMetrics.youngGenerationGarbageCollectors or spark.eventLog.gcMetrics.oldGenerationGarbageCollectors\n"
     ]
    }
   ],
   "source": [
    "df_from_csv_with_sql = spark.read.csv(\"ImdbTitleBasics.csv\", header=True, inferSchema=True)\n",
    "df_from_csv_with_sql.createOrReplaceTempView(\"title_basics\")\n",
    "result = spark.sql(\"SELECT startYear, COUNT(*) FROM title_basics GROUP BY startYear\")\n",
    "result.show()"
   ]
  }
 ],
 "metadata": {
  "kernelspec": {
   "display_name": "stream_processing_venv",
   "language": "python",
   "name": "python3"
  },
  "language_info": {
   "codemirror_mode": {
    "name": "ipython",
    "version": 3
   },
   "file_extension": ".py",
   "mimetype": "text/x-python",
   "name": "python",
   "nbconvert_exporter": "python",
   "pygments_lexer": "ipython3",
   "version": "3.13.0"
  }
 },
 "nbformat": 4,
 "nbformat_minor": 2
}
